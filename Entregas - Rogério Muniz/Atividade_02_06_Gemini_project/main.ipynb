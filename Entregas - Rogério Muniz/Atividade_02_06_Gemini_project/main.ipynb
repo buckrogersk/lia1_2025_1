{
 "cells": [
  {
   "cell_type": "markdown",
   "id": "c6b7c78d",
   "metadata": {},
   "source": [
    "## *Atividade 02/06 GenerativeAI - Google*"
   ]
  },
  {
   "cell_type": "code",
   "execution_count": 5,
   "id": "6333ae53",
   "metadata": {},
   "outputs": [],
   "source": [
    "# Importação das bibliotecas \n",
    "\n",
    "from dotenv import load_dotenv\n",
    "import os\n",
    "import google.generativeai as genai"
   ]
  },
  {
   "cell_type": "code",
   "execution_count": 6,
   "id": "f7c2aefe",
   "metadata": {},
   "outputs": [],
   "source": [
    "#Carregar variáveis de ambiente do arquivo .env\n",
    "load_dotenv()\n",
    "genai.configure(api_key=os.getenv(\"GOOGLE_API_KEY\")) #Configurar a chave da API do Google Generative AI"
   ]
  },
  {
   "cell_type": "code",
   "execution_count": 7,
   "id": "6783a55b",
   "metadata": {},
   "outputs": [
    {
     "name": "stdout",
     "output_type": "stream",
     "text": [
      "models/embedding-gecko-001\n",
      "models/gemini-1.0-pro-vision-latest\n",
      "models/gemini-pro-vision\n",
      "models/gemini-1.5-pro-latest\n",
      "models/gemini-1.5-pro-001\n",
      "models/gemini-1.5-pro-002\n",
      "models/gemini-1.5-pro\n",
      "models/gemini-1.5-flash-latest\n",
      "models/gemini-1.5-flash-001\n",
      "models/gemini-1.5-flash-001-tuning\n",
      "models/gemini-1.5-flash\n",
      "models/gemini-1.5-flash-002\n",
      "models/gemini-1.5-flash-8b\n",
      "models/gemini-1.5-flash-8b-001\n",
      "models/gemini-1.5-flash-8b-latest\n",
      "models/gemini-1.5-flash-8b-exp-0827\n",
      "models/gemini-1.5-flash-8b-exp-0924\n",
      "models/gemini-2.5-pro-exp-03-25\n",
      "models/gemini-2.5-pro-preview-03-25\n",
      "models/gemini-2.5-flash-preview-04-17\n",
      "models/gemini-2.5-flash-preview-05-20\n",
      "models/gemini-2.5-flash-preview-04-17-thinking\n",
      "models/gemini-2.5-pro-preview-05-06\n",
      "models/gemini-2.0-flash-exp\n",
      "models/gemini-2.0-flash\n",
      "models/gemini-2.0-flash-001\n",
      "models/gemini-2.0-flash-exp-image-generation\n",
      "models/gemini-2.0-flash-lite-001\n",
      "models/gemini-2.0-flash-lite\n",
      "models/gemini-2.0-flash-preview-image-generation\n",
      "models/gemini-2.0-flash-lite-preview-02-05\n",
      "models/gemini-2.0-flash-lite-preview\n",
      "models/gemini-2.0-pro-exp\n",
      "models/gemini-2.0-pro-exp-02-05\n",
      "models/gemini-exp-1206\n",
      "models/gemini-2.0-flash-thinking-exp-01-21\n",
      "models/gemini-2.0-flash-thinking-exp\n",
      "models/gemini-2.0-flash-thinking-exp-1219\n",
      "models/gemini-2.5-flash-preview-tts\n",
      "models/gemini-2.5-pro-preview-tts\n",
      "models/learnlm-2.0-flash-experimental\n",
      "models/gemma-3-1b-it\n",
      "models/gemma-3-4b-it\n",
      "models/gemma-3-12b-it\n",
      "models/gemma-3-27b-it\n",
      "models/gemma-3n-e4b-it\n",
      "models/embedding-001\n",
      "models/text-embedding-004\n",
      "models/gemini-embedding-exp-03-07\n",
      "models/gemini-embedding-exp\n",
      "models/aqa\n",
      "models/imagen-3.0-generate-002\n",
      "models/veo-2.0-generate-001\n",
      "models/gemini-2.5-flash-preview-native-audio-dialog\n",
      "models/gemini-2.5-flash-preview-native-audio-dialog-rai-v3\n",
      "models/gemini-2.5-flash-exp-native-audio-thinking-dialog\n",
      "models/gemini-2.0-flash-live-001\n"
     ]
    }
   ],
   "source": [
    "for model in genai.list_models():\n",
    "    print(model.name)"
   ]
  },
  {
   "cell_type": "code",
   "execution_count": 8,
   "id": "c0b5de55",
   "metadata": {},
   "outputs": [],
   "source": [
    "# Função para criar agentes simulando comportamentos\n",
    "def gerar_resposta_gemini(prompt):\n",
    "    model = genai.GenerativeModel(\"models/gemini-1.5-flash\")\n",
    "    response = model.generate_content(prompt)\n",
    "    return response.text.strip()"
   ]
  },
  {
   "cell_type": "code",
   "execution_count": 15,
   "id": "ce98f913",
   "metadata": {},
   "outputs": [
    {
     "name": "stdout",
     "output_type": "stream",
     "text": [
      "Resposta do agente: Um ar-condicionado de 2000 watts usado por 5 horas consome:\n",
      "\n",
      "2000 watts * 5 horas = 10000 watt-horas  = 10 kWh (quilowatt-horas)\n",
      "\n",
      "Portanto, o consumo elétrico é de **10 kWh**.\n"
     ]
    }
   ],
   "source": [
    "# Agente: Engenheiro Eletricista\n",
    "def calcular_consumo_eletrico(aparelho, potencia, horas):\n",
    "    prompt = f\"\"\"\n",
    "    Você é um engenheiro eletricista. \n",
    "    Calcule o consumo elétrico de um {aparelho} com potência de {potencia} watts usado por {horas} horas.\n",
    "    \"\"\"\n",
    "    return gerar_resposta_gemini(prompt)\n",
    "# Exemplo de uso\n",
    "\n",
    "aparelho = \"ar-condicionado\"\n",
    "potencia = 2000  # em watts\n",
    "horas = 5  # horas de uso\n",
    "\n",
    "resposta = calcular_consumo_eletrico(aparelho, potencia, horas)\n",
    "print(f\"Resposta do agente: {resposta}\")"
   ]
  }
 ],
 "metadata": {
  "kernelspec": {
   "display_name": ".venv",
   "language": "python",
   "name": "python3"
  },
  "language_info": {
   "codemirror_mode": {
    "name": "ipython",
    "version": 3
   },
   "file_extension": ".py",
   "mimetype": "text/x-python",
   "name": "python",
   "nbconvert_exporter": "python",
   "pygments_lexer": "ipython3",
   "version": "3.11.9"
  }
 },
 "nbformat": 4,
 "nbformat_minor": 5
}
